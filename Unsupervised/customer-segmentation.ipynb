{
 "cells": [
  {
   "cell_type": "markdown",
   "id": "4214f5bc",
   "metadata": {
    "id": "MTIXrkCYKtlu",
    "papermill": {
     "duration": 0.018767,
     "end_time": "2021-12-22T15:55:08.127781",
     "exception": false,
     "start_time": "2021-12-22T15:55:08.109014",
     "status": "completed"
    },
    "tags": []
   },
   "source": [
    "Importing the Dependencies"
   ]
  },
  {
   "cell_type": "code",
   "execution_count": 1,
   "id": "2d90c328",
   "metadata": {
    "execution": {
     "iopub.execute_input": "2021-12-22T15:55:08.168367Z",
     "iopub.status.busy": "2021-12-22T15:55:08.166575Z",
     "iopub.status.idle": "2021-12-22T15:55:09.641834Z",
     "shell.execute_reply": "2021-12-22T15:55:09.642367Z",
     "shell.execute_reply.started": "2021-12-22T15:52:16.769478Z"
    },
    "id": "mL7HLYQFXW-c",
    "papermill": {
     "duration": 1.497659,
     "end_time": "2021-12-22T15:55:09.642750",
     "exception": false,
     "start_time": "2021-12-22T15:55:08.145091",
     "status": "completed"
    },
    "tags": []
   },
   "outputs": [],
   "source": [
    "import numpy as np\n",
    "import pandas as pd\n",
    "import matplotlib.pyplot as plt\n",
    "import seaborn as sns\n",
    "from sklearn.cluster import KMeans"
   ]
  },
  {
   "cell_type": "markdown",
   "id": "4029e70c",
   "metadata": {
    "id": "KigjC6mBLJN3",
    "papermill": {
     "duration": 0.01832,
     "end_time": "2021-12-22T15:55:09.678823",
     "exception": false,
     "start_time": "2021-12-22T15:55:09.660503",
     "status": "completed"
    },
    "tags": []
   },
   "source": [
    "Data Collection & Analysis"
   ]
  },
  {
   "cell_type": "code",
   "execution_count": 2,
   "id": "7bfc7ac6",
   "metadata": {
    "execution": {
     "iopub.execute_input": "2021-12-22T15:55:09.719642Z",
     "iopub.status.busy": "2021-12-22T15:55:09.718892Z",
     "iopub.status.idle": "2021-12-22T15:55:09.732258Z",
     "shell.execute_reply": "2021-12-22T15:55:09.732829Z",
     "shell.execute_reply.started": "2021-12-22T15:52:16.776585Z"
    },
    "id": "gTSFo2LiLIav",
    "papermill": {
     "duration": 0.036391,
     "end_time": "2021-12-22T15:55:09.733033",
     "exception": false,
     "start_time": "2021-12-22T15:55:09.696642",
     "status": "completed"
    },
    "tags": []
   },
   "outputs": [],
   "source": [
    "# loading the data from csv file to a Pandas DataFrame\n",
    "customer_data = pd.read_csv('https://raw.githubusercontent.com/prateekcsit/Machine-Learning/master/Mall_Customers.csv')"
   ]
  },
  {
   "cell_type": "code",
   "execution_count": null,
   "id": "4b2d62ca",
   "metadata": {
    "id": "v4dVESvHtlN-",
    "papermill": {
     "duration": 0.016938,
     "end_time": "2021-12-22T15:55:09.767367",
     "exception": false,
     "start_time": "2021-12-22T15:55:09.750429",
     "status": "completed"
    },
    "tags": []
   },
   "outputs": [],
   "source": []
  },
  {
   "cell_type": "markdown",
   "id": "2b38ef4f",
   "metadata": {
    "id": "Y4s3vmZDofyB",
    "papermill": {
     "duration": 0.017854,
     "end_time": "2021-12-22T15:55:09.802918",
     "exception": false,
     "start_time": "2021-12-22T15:55:09.785064",
     "status": "completed"
    },
    "tags": []
   },
   "source": [
    "# New section"
   ]
  },
  {
   "cell_type": "code",
   "execution_count": 3,
   "id": "dd4918c7",
   "metadata": {
    "execution": {
     "iopub.execute_input": "2021-12-22T15:55:09.843047Z",
     "iopub.status.busy": "2021-12-22T15:55:09.842187Z",
     "iopub.status.idle": "2021-12-22T15:55:09.863634Z",
     "shell.execute_reply": "2021-12-22T15:55:09.864298Z",
     "shell.execute_reply.started": "2021-12-22T15:52:16.818336Z"
    },
    "id": "mbtjztN3Lhcu",
    "outputId": "87e5e47c-0d66-4b74-bb87-65cdb3c26628",
    "papermill": {
     "duration": 0.043507,
     "end_time": "2021-12-22T15:55:09.864495",
     "exception": false,
     "start_time": "2021-12-22T15:55:09.820988",
     "status": "completed"
    },
    "tags": []
   },
   "outputs": [
    {
     "data": {
      "text/html": [
       "<div>\n",
       "<style scoped>\n",
       "    .dataframe tbody tr th:only-of-type {\n",
       "        vertical-align: middle;\n",
       "    }\n",
       "\n",
       "    .dataframe tbody tr th {\n",
       "        vertical-align: top;\n",
       "    }\n",
       "\n",
       "    .dataframe thead th {\n",
       "        text-align: right;\n",
       "    }\n",
       "</style>\n",
       "<table border=\"1\" class=\"dataframe\">\n",
       "  <thead>\n",
       "    <tr style=\"text-align: right;\">\n",
       "      <th></th>\n",
       "      <th>CustomerID</th>\n",
       "      <th>Gender</th>\n",
       "      <th>Age</th>\n",
       "      <th>Annual Income (k$)</th>\n",
       "      <th>Spending Score (1-100)</th>\n",
       "    </tr>\n",
       "  </thead>\n",
       "  <tbody>\n",
       "    <tr>\n",
       "      <th>0</th>\n",
       "      <td>1</td>\n",
       "      <td>Male</td>\n",
       "      <td>19</td>\n",
       "      <td>15</td>\n",
       "      <td>39</td>\n",
       "    </tr>\n",
       "    <tr>\n",
       "      <th>1</th>\n",
       "      <td>2</td>\n",
       "      <td>Male</td>\n",
       "      <td>21</td>\n",
       "      <td>15</td>\n",
       "      <td>81</td>\n",
       "    </tr>\n",
       "    <tr>\n",
       "      <th>2</th>\n",
       "      <td>3</td>\n",
       "      <td>Female</td>\n",
       "      <td>20</td>\n",
       "      <td>16</td>\n",
       "      <td>6</td>\n",
       "    </tr>\n",
       "    <tr>\n",
       "      <th>3</th>\n",
       "      <td>4</td>\n",
       "      <td>Female</td>\n",
       "      <td>23</td>\n",
       "      <td>16</td>\n",
       "      <td>77</td>\n",
       "    </tr>\n",
       "    <tr>\n",
       "      <th>4</th>\n",
       "      <td>5</td>\n",
       "      <td>Female</td>\n",
       "      <td>31</td>\n",
       "      <td>17</td>\n",
       "      <td>40</td>\n",
       "    </tr>\n",
       "  </tbody>\n",
       "</table>\n",
       "</div>"
      ],
      "text/plain": [
       "   CustomerID  Gender  Age  Annual Income (k$)  Spending Score (1-100)\n",
       "0           1    Male   19                  15                      39\n",
       "1           2    Male   21                  15                      81\n",
       "2           3  Female   20                  16                       6\n",
       "3           4  Female   23                  16                      77\n",
       "4           5  Female   31                  17                      40"
      ]
     },
     "execution_count": 3,
     "metadata": {},
     "output_type": "execute_result"
    }
   ],
   "source": [
    "# first 5 rows in the dataframe\n",
    "customer_data.head()"
   ]
  },
  {
   "cell_type": "code",
   "execution_count": 4,
   "id": "7dc0a598",
   "metadata": {
    "execution": {
     "iopub.execute_input": "2021-12-22T15:55:09.907079Z",
     "iopub.status.busy": "2021-12-22T15:55:09.906439Z",
     "iopub.status.idle": "2021-12-22T15:55:09.909801Z",
     "shell.execute_reply": "2021-12-22T15:55:09.910286Z",
     "shell.execute_reply.started": "2021-12-22T15:52:16.846699Z"
    },
    "id": "-NWZTDNRLofr",
    "outputId": "0b0c5089-6d9d-41cf-be58-0ced60ea9aaa",
    "papermill": {
     "duration": 0.027519,
     "end_time": "2021-12-22T15:55:09.910478",
     "exception": false,
     "start_time": "2021-12-22T15:55:09.882959",
     "status": "completed"
    },
    "tags": []
   },
   "outputs": [
    {
     "data": {
      "text/plain": [
       "(200, 5)"
      ]
     },
     "execution_count": 4,
     "metadata": {},
     "output_type": "execute_result"
    }
   ],
   "source": [
    "# finding the number of rows and columns\n",
    "customer_data.shape"
   ]
  },
  {
   "cell_type": "code",
   "execution_count": 5,
   "id": "1ba201b5",
   "metadata": {
    "execution": {
     "iopub.execute_input": "2021-12-22T15:55:09.950164Z",
     "iopub.status.busy": "2021-12-22T15:55:09.949431Z",
     "iopub.status.idle": "2021-12-22T15:55:09.973133Z",
     "shell.execute_reply": "2021-12-22T15:55:09.972362Z",
     "shell.execute_reply.started": "2021-12-22T15:52:16.854717Z"
    },
    "id": "K5qKxwHiL56b",
    "outputId": "be4bd7d0-2c6c-4989-f386-004f41e0c954",
    "papermill": {
     "duration": 0.04439,
     "end_time": "2021-12-22T15:55:09.973331",
     "exception": false,
     "start_time": "2021-12-22T15:55:09.928941",
     "status": "completed"
    },
    "tags": []
   },
   "outputs": [
    {
     "name": "stdout",
     "output_type": "stream",
     "text": [
      "<class 'pandas.core.frame.DataFrame'>\n",
      "RangeIndex: 200 entries, 0 to 199\n",
      "Data columns (total 5 columns):\n",
      " #   Column                  Non-Null Count  Dtype \n",
      "---  ------                  --------------  ----- \n",
      " 0   CustomerID              200 non-null    int64 \n",
      " 1   Gender                  200 non-null    object\n",
      " 2   Age                     200 non-null    int64 \n",
      " 3   Annual Income (k$)      200 non-null    int64 \n",
      " 4   Spending Score (1-100)  200 non-null    int64 \n",
      "dtypes: int64(4), object(1)\n",
      "memory usage: 7.9+ KB\n"
     ]
    }
   ],
   "source": [
    "# getting some informations about the dataset\n",
    "customer_data.info()"
   ]
  },
  {
   "cell_type": "code",
   "execution_count": 7,
   "id": "082a7fd0",
   "metadata": {},
   "outputs": [
    {
     "data": {
      "text/html": [
       "<div>\n",
       "<style scoped>\n",
       "    .dataframe tbody tr th:only-of-type {\n",
       "        vertical-align: middle;\n",
       "    }\n",
       "\n",
       "    .dataframe tbody tr th {\n",
       "        vertical-align: top;\n",
       "    }\n",
       "\n",
       "    .dataframe thead th {\n",
       "        text-align: right;\n",
       "    }\n",
       "</style>\n",
       "<table border=\"1\" class=\"dataframe\">\n",
       "  <thead>\n",
       "    <tr style=\"text-align: right;\">\n",
       "      <th></th>\n",
       "      <th>CustomerID</th>\n",
       "      <th>Age</th>\n",
       "      <th>Annual Income (k$)</th>\n",
       "      <th>Spending Score (1-100)</th>\n",
       "    </tr>\n",
       "  </thead>\n",
       "  <tbody>\n",
       "    <tr>\n",
       "      <th>count</th>\n",
       "      <td>200.000000</td>\n",
       "      <td>200.000000</td>\n",
       "      <td>200.000000</td>\n",
       "      <td>200.000000</td>\n",
       "    </tr>\n",
       "    <tr>\n",
       "      <th>mean</th>\n",
       "      <td>100.500000</td>\n",
       "      <td>38.850000</td>\n",
       "      <td>60.560000</td>\n",
       "      <td>50.200000</td>\n",
       "    </tr>\n",
       "    <tr>\n",
       "      <th>std</th>\n",
       "      <td>57.879185</td>\n",
       "      <td>13.969007</td>\n",
       "      <td>26.264721</td>\n",
       "      <td>25.823522</td>\n",
       "    </tr>\n",
       "    <tr>\n",
       "      <th>min</th>\n",
       "      <td>1.000000</td>\n",
       "      <td>18.000000</td>\n",
       "      <td>15.000000</td>\n",
       "      <td>1.000000</td>\n",
       "    </tr>\n",
       "    <tr>\n",
       "      <th>25%</th>\n",
       "      <td>50.750000</td>\n",
       "      <td>28.750000</td>\n",
       "      <td>41.500000</td>\n",
       "      <td>34.750000</td>\n",
       "    </tr>\n",
       "    <tr>\n",
       "      <th>50%</th>\n",
       "      <td>100.500000</td>\n",
       "      <td>36.000000</td>\n",
       "      <td>61.500000</td>\n",
       "      <td>50.000000</td>\n",
       "    </tr>\n",
       "    <tr>\n",
       "      <th>75%</th>\n",
       "      <td>150.250000</td>\n",
       "      <td>49.000000</td>\n",
       "      <td>78.000000</td>\n",
       "      <td>73.000000</td>\n",
       "    </tr>\n",
       "    <tr>\n",
       "      <th>max</th>\n",
       "      <td>200.000000</td>\n",
       "      <td>70.000000</td>\n",
       "      <td>137.000000</td>\n",
       "      <td>99.000000</td>\n",
       "    </tr>\n",
       "  </tbody>\n",
       "</table>\n",
       "</div>"
      ],
      "text/plain": [
       "       CustomerID         Age  Annual Income (k$)  Spending Score (1-100)\n",
       "count  200.000000  200.000000          200.000000              200.000000\n",
       "mean   100.500000   38.850000           60.560000               50.200000\n",
       "std     57.879185   13.969007           26.264721               25.823522\n",
       "min      1.000000   18.000000           15.000000                1.000000\n",
       "25%     50.750000   28.750000           41.500000               34.750000\n",
       "50%    100.500000   36.000000           61.500000               50.000000\n",
       "75%    150.250000   49.000000           78.000000               73.000000\n",
       "max    200.000000   70.000000          137.000000               99.000000"
      ]
     },
     "execution_count": 7,
     "metadata": {},
     "output_type": "execute_result"
    }
   ],
   "source": [
    "customer_data.describe()"
   ]
  },
  {
   "cell_type": "code",
   "execution_count": 8,
   "id": "5953e028",
   "metadata": {
    "execution": {
     "iopub.execute_input": "2021-12-22T15:55:10.030050Z",
     "iopub.status.busy": "2021-12-22T15:55:10.028781Z",
     "iopub.status.idle": "2021-12-22T15:55:10.035317Z",
     "shell.execute_reply": "2021-12-22T15:55:10.035962Z",
     "shell.execute_reply.started": "2021-12-22T15:52:16.887750Z"
    },
    "id": "vBtCZvyFMI1O",
    "outputId": "54496559-26c8-41a7-e02b-bd8b7282f20e",
    "papermill": {
     "duration": 0.038867,
     "end_time": "2021-12-22T15:55:10.036176",
     "exception": false,
     "start_time": "2021-12-22T15:55:09.997309",
     "status": "completed"
    },
    "tags": []
   },
   "outputs": [
    {
     "data": {
      "text/plain": [
       "CustomerID                0\n",
       "Gender                    0\n",
       "Age                       0\n",
       "Annual Income (k$)        0\n",
       "Spending Score (1-100)    0\n",
       "dtype: int64"
      ]
     },
     "execution_count": 8,
     "metadata": {},
     "output_type": "execute_result"
    }
   ],
   "source": [
    "# checking for missing values\n",
    "customer_data.isnull().sum()"
   ]
  },
  {
   "cell_type": "markdown",
   "id": "e2d84866",
   "metadata": {
    "id": "mDtt8uP0MoiH",
    "papermill": {
     "duration": 0.018702,
     "end_time": "2021-12-22T15:55:10.074029",
     "exception": false,
     "start_time": "2021-12-22T15:55:10.055327",
     "status": "completed"
    },
    "tags": []
   },
   "source": [
    "Choosing the Annual Income Column & Spending Score column"
   ]
  },
  {
   "cell_type": "code",
   "execution_count": 27,
   "id": "820a43f5",
   "metadata": {
    "execution": {
     "iopub.execute_input": "2021-12-22T15:55:10.125961Z",
     "iopub.status.busy": "2021-12-22T15:55:10.125054Z",
     "iopub.status.idle": "2021-12-22T15:55:10.130374Z",
     "shell.execute_reply": "2021-12-22T15:55:10.131152Z",
     "shell.execute_reply.started": "2021-12-22T15:52:16.908481Z"
    },
    "id": "-GZMLhdvMXv5",
    "papermill": {
     "duration": 0.03699,
     "end_time": "2021-12-22T15:55:10.131380",
     "exception": false,
     "start_time": "2021-12-22T15:55:10.094390",
     "status": "completed"
    },
    "tags": []
   },
   "outputs": [],
   "source": [
    "X = customer_data.iloc[:,[3,4]].values"
   ]
  },
  {
   "cell_type": "code",
   "execution_count": 28,
   "id": "6c96c14c",
   "metadata": {
    "execution": {
     "iopub.execute_input": "2021-12-22T15:55:10.178276Z",
     "iopub.status.busy": "2021-12-22T15:55:10.177607Z",
     "iopub.status.idle": "2021-12-22T15:55:10.187683Z",
     "shell.execute_reply": "2021-12-22T15:55:10.188192Z",
     "shell.execute_reply.started": "2021-12-22T15:52:16.922353Z"
    },
    "id": "5vpIqX5qNHEB",
    "outputId": "d0e1ca56-0466-4886-8ca8-2c392ef12d6c",
    "papermill": {
     "duration": 0.032836,
     "end_time": "2021-12-22T15:55:10.188375",
     "exception": false,
     "start_time": "2021-12-22T15:55:10.155539",
     "status": "completed"
    },
    "tags": []
   },
   "outputs": [
    {
     "name": "stdout",
     "output_type": "stream",
     "text": [
      "[[ 15  39]\n",
      " [ 15  81]\n",
      " [ 16   6]\n",
      " [ 16  77]\n",
      " [ 17  40]\n",
      " [ 17  76]\n",
      " [ 18   6]\n",
      " [ 18  94]\n",
      " [ 19   3]\n",
      " [ 19  72]\n",
      " [ 19  14]\n",
      " [ 19  99]\n",
      " [ 20  15]\n",
      " [ 20  77]\n",
      " [ 20  13]\n",
      " [ 20  79]\n",
      " [ 21  35]\n",
      " [ 21  66]\n",
      " [ 23  29]\n",
      " [ 23  98]\n",
      " [ 24  35]\n",
      " [ 24  73]\n",
      " [ 25   5]\n",
      " [ 25  73]\n",
      " [ 28  14]\n",
      " [ 28  82]\n",
      " [ 28  32]\n",
      " [ 28  61]\n",
      " [ 29  31]\n",
      " [ 29  87]\n",
      " [ 30   4]\n",
      " [ 30  73]\n",
      " [ 33   4]\n",
      " [ 33  92]\n",
      " [ 33  14]\n",
      " [ 33  81]\n",
      " [ 34  17]\n",
      " [ 34  73]\n",
      " [ 37  26]\n",
      " [ 37  75]\n",
      " [ 38  35]\n",
      " [ 38  92]\n",
      " [ 39  36]\n",
      " [ 39  61]\n",
      " [ 39  28]\n",
      " [ 39  65]\n",
      " [ 40  55]\n",
      " [ 40  47]\n",
      " [ 40  42]\n",
      " [ 40  42]\n",
      " [ 42  52]\n",
      " [ 42  60]\n",
      " [ 43  54]\n",
      " [ 43  60]\n",
      " [ 43  45]\n",
      " [ 43  41]\n",
      " [ 44  50]\n",
      " [ 44  46]\n",
      " [ 46  51]\n",
      " [ 46  46]\n",
      " [ 46  56]\n",
      " [ 46  55]\n",
      " [ 47  52]\n",
      " [ 47  59]\n",
      " [ 48  51]\n",
      " [ 48  59]\n",
      " [ 48  50]\n",
      " [ 48  48]\n",
      " [ 48  59]\n",
      " [ 48  47]\n",
      " [ 49  55]\n",
      " [ 49  42]\n",
      " [ 50  49]\n",
      " [ 50  56]\n",
      " [ 54  47]\n",
      " [ 54  54]\n",
      " [ 54  53]\n",
      " [ 54  48]\n",
      " [ 54  52]\n",
      " [ 54  42]\n",
      " [ 54  51]\n",
      " [ 54  55]\n",
      " [ 54  41]\n",
      " [ 54  44]\n",
      " [ 54  57]\n",
      " [ 54  46]\n",
      " [ 57  58]\n",
      " [ 57  55]\n",
      " [ 58  60]\n",
      " [ 58  46]\n",
      " [ 59  55]\n",
      " [ 59  41]\n",
      " [ 60  49]\n",
      " [ 60  40]\n",
      " [ 60  42]\n",
      " [ 60  52]\n",
      " [ 60  47]\n",
      " [ 60  50]\n",
      " [ 61  42]\n",
      " [ 61  49]\n",
      " [ 62  41]\n",
      " [ 62  48]\n",
      " [ 62  59]\n",
      " [ 62  55]\n",
      " [ 62  56]\n",
      " [ 62  42]\n",
      " [ 63  50]\n",
      " [ 63  46]\n",
      " [ 63  43]\n",
      " [ 63  48]\n",
      " [ 63  52]\n",
      " [ 63  54]\n",
      " [ 64  42]\n",
      " [ 64  46]\n",
      " [ 65  48]\n",
      " [ 65  50]\n",
      " [ 65  43]\n",
      " [ 65  59]\n",
      " [ 67  43]\n",
      " [ 67  57]\n",
      " [ 67  56]\n",
      " [ 67  40]\n",
      " [ 69  58]\n",
      " [ 69  91]\n",
      " [ 70  29]\n",
      " [ 70  77]\n",
      " [ 71  35]\n",
      " [ 71  95]\n",
      " [ 71  11]\n",
      " [ 71  75]\n",
      " [ 71   9]\n",
      " [ 71  75]\n",
      " [ 72  34]\n",
      " [ 72  71]\n",
      " [ 73   5]\n",
      " [ 73  88]\n",
      " [ 73   7]\n",
      " [ 73  73]\n",
      " [ 74  10]\n",
      " [ 74  72]\n",
      " [ 75   5]\n",
      " [ 75  93]\n",
      " [ 76  40]\n",
      " [ 76  87]\n",
      " [ 77  12]\n",
      " [ 77  97]\n",
      " [ 77  36]\n",
      " [ 77  74]\n",
      " [ 78  22]\n",
      " [ 78  90]\n",
      " [ 78  17]\n",
      " [ 78  88]\n",
      " [ 78  20]\n",
      " [ 78  76]\n",
      " [ 78  16]\n",
      " [ 78  89]\n",
      " [ 78   1]\n",
      " [ 78  78]\n",
      " [ 78   1]\n",
      " [ 78  73]\n",
      " [ 79  35]\n",
      " [ 79  83]\n",
      " [ 81   5]\n",
      " [ 81  93]\n",
      " [ 85  26]\n",
      " [ 85  75]\n",
      " [ 86  20]\n",
      " [ 86  95]\n",
      " [ 87  27]\n",
      " [ 87  63]\n",
      " [ 87  13]\n",
      " [ 87  75]\n",
      " [ 87  10]\n",
      " [ 87  92]\n",
      " [ 88  13]\n",
      " [ 88  86]\n",
      " [ 88  15]\n",
      " [ 88  69]\n",
      " [ 93  14]\n",
      " [ 93  90]\n",
      " [ 97  32]\n",
      " [ 97  86]\n",
      " [ 98  15]\n",
      " [ 98  88]\n",
      " [ 99  39]\n",
      " [ 99  97]\n",
      " [101  24]\n",
      " [101  68]\n",
      " [103  17]\n",
      " [103  85]\n",
      " [103  23]\n",
      " [103  69]\n",
      " [113   8]\n",
      " [113  91]\n",
      " [120  16]\n",
      " [120  79]\n",
      " [126  28]\n",
      " [126  74]\n",
      " [137  18]\n",
      " [137  83]]\n"
     ]
    }
   ],
   "source": [
    "print(X)"
   ]
  },
  {
   "cell_type": "markdown",
   "id": "1c5a0e6a",
   "metadata": {
    "id": "LUHCVZWVNVb5",
    "papermill": {
     "duration": 0.019362,
     "end_time": "2021-12-22T15:55:10.227230",
     "exception": false,
     "start_time": "2021-12-22T15:55:10.207868",
     "status": "completed"
    },
    "tags": []
   },
   "source": [
    "Choosing the number of clusters"
   ]
  },
  {
   "cell_type": "markdown",
   "id": "b249e987",
   "metadata": {
    "id": "25tFwgnZNiRF",
    "papermill": {
     "duration": 0.018524,
     "end_time": "2021-12-22T15:55:10.273565",
     "exception": false,
     "start_time": "2021-12-22T15:55:10.255041",
     "status": "completed"
    },
    "tags": []
   },
   "source": [
    "WCSS  ->  Within Clusters Sum of Squares"
   ]
  },
  {
   "cell_type": "code",
   "execution_count": 29,
   "id": "34f0d6a3",
   "metadata": {
    "execution": {
     "iopub.execute_input": "2021-12-22T15:55:10.319835Z",
     "iopub.status.busy": "2021-12-22T15:55:10.318875Z",
     "iopub.status.idle": "2021-12-22T15:55:10.872698Z",
     "shell.execute_reply": "2021-12-22T15:55:10.872013Z",
     "shell.execute_reply.started": "2021-12-22T15:52:16.942243Z"
    },
    "id": "LywIm4NDNIG1",
    "papermill": {
     "duration": 0.580423,
     "end_time": "2021-12-22T15:55:10.872842",
     "exception": false,
     "start_time": "2021-12-22T15:55:10.292419",
     "status": "completed"
    },
    "tags": []
   },
   "outputs": [],
   "source": [
    "# finding wcss value for different number of clusters\n",
    "\n",
    "wcss = []\n",
    "\n",
    "for i in range(1,11):\n",
    "  kmeans = KMeans(n_clusters=i, init='k-means++', random_state=42)\n",
    "  kmeans.fit(X)\n",
    "\n",
    "  wcss.append(kmeans.inertia_)"
   ]
  },
  {
   "cell_type": "code",
   "execution_count": 30,
   "id": "f9034bfa",
   "metadata": {
    "execution": {
     "iopub.execute_input": "2021-12-22T15:55:10.924572Z",
     "iopub.status.busy": "2021-12-22T15:55:10.923663Z",
     "iopub.status.idle": "2021-12-22T15:55:11.138355Z",
     "shell.execute_reply": "2021-12-22T15:55:11.137806Z",
     "shell.execute_reply.started": "2021-12-22T15:52:17.481381Z"
    },
    "id": "1rWLIgxJPXI_",
    "outputId": "ecbd86b4-5121-4fea-a610-b19d89f435b6",
    "papermill": {
     "duration": 0.245894,
     "end_time": "2021-12-22T15:55:11.138492",
     "exception": false,
     "start_time": "2021-12-22T15:55:10.892598",
     "status": "completed"
    },
    "tags": []
   },
   "outputs": [
    {
     "data": {
      "image/png": "[encoded data removed]",
      "text/plain": [
       "<Figure size 432x288 with 1 Axes>"
      ]
     },
     "metadata": {},
     "output_type": "display_data"
    }
   ],
   "source": [
    "# plot an elbow graph\n",
    "\n",
    "sns.set()\n",
    "plt.plot(range(1,11), wcss)\n",
    "plt.title('The Elbow Point Graph')\n",
    "plt.xlabel('Number of Clusters')\n",
    "plt.ylabel('WCSS')\n",
    "plt.show()"
   ]
  },
  {
   "cell_type": "markdown",
   "id": "d6f98aa5",
   "metadata": {
    "id": "ifedd9_gQC4x",
    "papermill": {
     "duration": 0.019448,
     "end_time": "2021-12-22T15:55:11.177425",
     "exception": false,
     "start_time": "2021-12-22T15:55:11.157977",
     "status": "completed"
    },
    "tags": []
   },
   "source": [
    "Optimum Number of Clusters = 5"
   ]
  },
  {
   "cell_type": "markdown",
   "id": "1d7da3ae",
   "metadata": {
    "id": "J3DiuWPtQKnU",
    "papermill": {
     "duration": 0.019343,
     "end_time": "2021-12-22T15:55:11.216586",
     "exception": false,
     "start_time": "2021-12-22T15:55:11.197243",
     "status": "completed"
    },
    "tags": []
   },
   "source": [
    "Training the k-Means Clustering Model"
   ]
  },
  {
   "cell_type": "code",
   "execution_count": 31,
   "id": "0cce7fa4",
   "metadata": {
    "execution": {
     "iopub.execute_input": "2021-12-22T15:55:11.262671Z",
     "iopub.status.busy": "2021-12-22T15:55:11.261638Z",
     "iopub.status.idle": "2021-12-22T15:55:11.301638Z",
     "shell.execute_reply": "2021-12-22T15:55:11.302347Z",
     "shell.execute_reply.started": "2021-12-22T15:52:17.746378Z"
    },
    "id": "-5S3HwLpPy3h",
    "outputId": "51ad32c4-f81b-4c2e-9e61-073951eeecce",
    "papermill": {
     "duration": 0.06642,
     "end_time": "2021-12-22T15:55:11.302585",
     "exception": false,
     "start_time": "2021-12-22T15:55:11.236165",
     "status": "completed"
    },
    "tags": []
   },
   "outputs": [
    {
     "name": "stdout",
     "output_type": "stream",
     "text": [
      "[4 3 4 3 4 3 4 3 4 3 4 3 4 3 4 3 4 3 4 3 4 3 4 3 4 3 4 3 4 3 4 3 4 3 4 3 4\n",
      " 3 4 3 4 3 4 1 4 3 1 1 1 1 1 1 1 1 1 1 1 1 1 1 1 1 1 1 1 1 1 1 1 1 1 1 1 1\n",
      " 1 1 1 1 1 1 1 1 1 1 1 1 1 1 1 1 1 1 1 1 1 1 1 1 1 1 1 1 1 1 1 1 1 1 1 1 1\n",
      " 1 1 1 1 1 1 1 1 1 1 1 1 2 0 2 1 2 0 2 0 2 1 2 0 2 0 2 0 2 0 2 1 2 0 2 0 2\n",
      " 0 2 0 2 0 2 0 2 0 2 0 2 0 2 0 2 0 2 0 2 0 2 0 2 0 2 0 2 0 2 0 2 0 2 0 2 0\n",
      " 2 0 2 0 2 0 2 0 2 0 2 0 2 0 2]\n"
     ]
    }
   ],
   "source": [
    "kmeans = KMeans(n_clusters=5, init='k-means++', random_state=0)\n",
    "\n",
    "# return a label for each data point based on their cluster\n",
    "Y = kmeans.fit_predict(X)\n",
    "\n",
    "print(Y)"
   ]
  },
  {
   "cell_type": "markdown",
   "id": "61105240",
   "metadata": {
    "id": "ehXD5VrDSyuB",
    "papermill": {
     "duration": 0.019563,
     "end_time": "2021-12-22T15:55:11.342940",
     "exception": false,
     "start_time": "2021-12-22T15:55:11.323377",
     "status": "completed"
    },
    "tags": []
   },
   "source": [
    "5 Clusters -  0, 1, 2, 3, 4"
   ]
  },
  {
   "cell_type": "markdown",
   "id": "61fe7f53",
   "metadata": {
    "id": "AfFa2VDQRNcK",
    "papermill": {
     "duration": 0.020541,
     "end_time": "2021-12-22T15:55:11.383322",
     "exception": false,
     "start_time": "2021-12-22T15:55:11.362781",
     "status": "completed"
    },
    "tags": []
   },
   "source": [
    "Visualizing all the Clusters"
   ]
  },
  {
   "cell_type": "code",
   "execution_count": 35,
   "id": "31b9c45d",
   "metadata": {
    "execution": {
     "iopub.execute_input": "2021-12-22T15:55:11.427769Z",
     "iopub.status.busy": "2021-12-22T15:55:11.426812Z",
     "iopub.status.idle": "2021-12-22T15:55:11.704251Z",
     "shell.execute_reply": "2021-12-22T15:55:11.704762Z",
     "shell.execute_reply.started": "2021-12-22T15:52:17.792061Z"
    },
    "id": "Tl_Obm0aQ_cU",
    "outputId": "3547ae65-36ee-4a12-b029-709b433404c4",
    "papermill": {
     "duration": 0.30146,
     "end_time": "2021-12-22T15:55:11.704935",
     "exception": false,
     "start_time": "2021-12-22T15:55:11.403475",
     "status": "completed"
    },
    "tags": []
   },
   "outputs": [
    {
     "data": {
      "image/png": "[encoded data removed]",
      "text/plain": [
       "<Figure size 576x576 with 1 Axes>"
      ]
     },
     "metadata": {},
     "output_type": "display_data"
    }
   ],
   "source": [
    "# plotting all the clusters and their Centroids\n",
    "\n",
    "plt.figure(figsize=(8,8))\n",
    "plt.scatter(X[Y==0,0], X[Y==0,1], s=50, c='green', label='Cluster 1')\n",
    "plt.scatter(X[Y==1,0], X[Y==1,1], s=50, c='red', label='Cluster 2')\n",
    "plt.scatter(X[Y==2,0], X[Y==2,1], s=50, c='yellow', label='Cluster 3')\n",
    "plt.scatter(X[Y==3,0], X[Y==3,1], s=50, c='violet', label='Cluster 4')\n",
    "plt.scatter(X[Y==4,0], X[Y==4,1], s=50, c='blue', label='Cluster 5')\n",
    "\n",
    "# plot the centroids\n",
    "plt.scatter(kmeans.cluster_centers_[:,0], kmeans.cluster_centers_[:,1], s=100, c='cyan', label='Centroids')\n",
    "\n",
    "plt.title('Customer Groups')\n",
    "plt.xlabel('Annual Income')\n",
    "plt.ylabel('Spending Score')\n",
    "plt.legend()\n",
    "plt.show()"
   ]
  },
  {
   "cell_type": "code",
   "execution_count": 36,
   "id": "a9b87dbf",
   "metadata": {
    "collapsed": true,
    "id": "OjWc3GPiUFBm",
    "papermill": {
     "duration": 0.020563,
     "end_time": "2021-12-22T15:55:11.746495",
     "exception": false,
     "start_time": "2021-12-22T15:55:11.725932",
     "status": "completed"
    },
    "tags": []
   },
   "outputs": [
    {
     "data": {
      "text/plain": [
       "array([4])"
      ]
     },
     "execution_count": 36,
     "metadata": {},
     "output_type": "execute_result"
    }
   ],
   "source": [
    "kmeans.predict([[32,14]])"
   ]
  },
  {
   "cell_type": "code",
   "execution_count": 2,
   "id": "c5325b56",
   "metadata": {},
   "outputs": [
    {
     "name": "stdout",
     "output_type": "stream",
     "text": [
      "21\n"
     ]
    }
   ],
   "source": [
    "import numpy as np\n",
    "a = np.array([1,2,3,5,8])\n",
    "\n",
    "b = np.array([0,3,4,2,1])\n",
    "\n",
    "c = a + b\n",
    "\n",
    "c = c*a\n",
    "\n",
    "print (c[2])"
   ]
  },
  {
   "cell_type": "code",
   "execution_count": null,
   "id": "35a7b9d4",
   "metadata": {},
   "outputs": [],
   "source": []
  }
 ],
 "metadata": {
  "kernelspec": {
   "display_name": "Python 3",
   "language": "python",
   "name": "python3"
  },
  "language_info": {
   "codemirror_mode": {
    "name": "ipython",
    "version": 3
   },
   "file_extension": ".py",
   "mimetype": "text/x-python",
   "name": "python",
   "nbconvert_exporter": "python",
   "pygments_lexer": "ipython3",
   "version": "3.9.8"
  },
  "papermill": {
   "default_parameters": {},
   "duration": 14.602971,
   "end_time": "2021-12-22T15:55:12.477994",
   "environment_variables": {},
   "exception": null,
   "input_path": "__notebook__.ipynb",
   "output_path": "__notebook__.ipynb",
   "parameters": {},
   "start_time": "2021-12-22T15:54:57.875023",
   "version": "2.3.3"
  }
 },
 "nbformat": 4,
 "nbformat_minor": 5
}
